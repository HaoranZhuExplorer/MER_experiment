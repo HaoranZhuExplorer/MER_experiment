{
 "cells": [
  {
   "cell_type": "markdown",
   "metadata": {},
   "source": [
    "# Making the plot\n",
    "\n",
    "The training was based on 20 tasks of permuted MNIST, 3000 samples for each task.\n",
    "Also 20 tasks of Cifar100, 2500 samples for each task.\n",
    "\n",
    "There are two ways to do the comparison. "
   ]
  },
  {
   "cell_type": "code",
   "execution_count": 23,
   "metadata": {},
   "outputs": [],
   "source": [
    "import torch\n",
    "import matplotlib.pyplot as plt\n",
    "\n",
    "torch_file = \"gem_mnist_permutations.pt_2020_03_10_01_47_17_346ebec52b16414fb0ea121cde67f159.pt\"\n",
    "# MNIST: \"gem_mnist_permutations.pt_2020_02_28_23_33_35_6fb6b138bdf34cbf9dd783499b4e3fa3.pt\"\n",
    "\n",
    "samples_per_task = 3000 # MNIST permutation: 3000; cifar100: 2500\n",
    "batch_size = 1 # MNIST permutation: 1; cifar100: 10\n",
    "batch_per_task = int(samples_per_task / batch_size)\n",
    "layers = 6\n",
    "\n",
    "all_data = torch.load(torch_file, map_location = \"cpu\")"
   ]
  },
  {
   "cell_type": "markdown",
   "metadata": {},
   "source": [
    "## The first is to compare two tasks directly. And there would be a dot product at each minibatch."
   ]
  },
  {
   "cell_type": "code",
   "execution_count": 145,
   "metadata": {},
   "outputs": [
    {
     "data": {
      "text/plain": [
       "[<matplotlib.lines.Line2D at 0x12e4ae470>]"
      ]
     },
     "execution_count": 145,
     "metadata": {},
     "output_type": "execute_result"
    },
    {
     "data": {
      "image/png": "[encoded data removed]",
      "text/plain": [
       "<Figure size 432x288 with 1 Axes>"
      ]
     },
     "metadata": {
      "needs_background": "light"
     },
     "output_type": "display_data"
    }
   ],
   "source": [
    "# indexes of two tasks to do the comparison(t_idx_1 < t_idx_2)\n",
    "t_idx_1 = 1 \n",
    "t_idx_2 = 2\n",
    "\n",
    "dotp = []\n",
    "batches = []\n",
    "for i, item in enumerate(all_data[2][batch_per_task*(t_idx_2-1):batch_per_task*t_idx_2-1].tolist()):\n",
    "    batches.append(i+1)\n",
    "    dotp.append(item[t_idx_1-1])\n",
    "    \n",
    "plt.plot(batches, dotp)"
   ]
  },
  {
   "cell_type": "markdown",
   "metadata": {},
   "source": [
    " ## The second one is to compare a certain task with all the following tasks. The average is taken of all samples to represent a certain task."
   ]
  },
  {
   "cell_type": "code",
   "execution_count": 6,
   "metadata": {},
   "outputs": [
    {
     "data": {
      "text/plain": [
       "[<matplotlib.lines.Line2D at 0x11f258c50>]"
      ]
     },
     "execution_count": 6,
     "metadata": {},
     "output_type": "execute_result"
    },
    {
     "data": {
      "image/png": "[encoded data removed]",
      "text/plain": [
       "<Figure size 432x288 with 1 Axes>"
      ]
     },
     "metadata": {
      "needs_background": "light"
     },
     "output_type": "display_data"
    }
   ],
   "source": [
    "t_idx = 1 # index of the task to do the comparison\n",
    "\n",
    "tasks = []\n",
    "dotp = []\n",
    "temp_sum = 0\n",
    "task_num = t_idx + 1\n",
    "\n",
    "for i, item in enumerate(all_data[2][batch_per_task*(task_num-1):].tolist()):\n",
    "    if i % batch_per_task == 0 and i > 0:\n",
    "        tasks.append(task_num)\n",
    "        dotp.append(temp_sum / batch_per_task)\n",
    "        temp_sum = 0\n",
    "        task_num = i / batch_per_task + t_idx + 1\n",
    "    \n",
    "    temp_sum += item[t_idx-1]\n",
    "\n",
    "plt.plot(tasks, dotp, 'deepskyblue')"
   ]
  },
  {
   "cell_type": "markdown",
   "metadata": {},
   "source": [
    "## Make the plot of dot product at each layer"
   ]
  },
  {
   "cell_type": "code",
   "execution_count": 24,
   "metadata": {
    "scrolled": true
   },
   "outputs": [
    {
     "ename": "IndexError",
     "evalue": "list index out of range",
     "output_type": "error",
     "traceback": [
      "\u001b[0;31m---------------------------------------------------------------------------\u001b[0m",
      "\u001b[0;31mIndexError\u001b[0m                                Traceback (most recent call last)",
      "\u001b[0;32m<ipython-input-24-1fab4c1c0bd5>\u001b[0m in \u001b[0;36m<module>\u001b[0;34m\u001b[0m\n\u001b[1;32m     18\u001b[0m \u001b[0;34m\u001b[0m\u001b[0m\n\u001b[1;32m     19\u001b[0m \u001b[0;34m\u001b[0m\u001b[0m\n\u001b[0;32m---> 20\u001b[0;31m         \u001b[0mtemp_sum\u001b[0m\u001b[0;34m[\u001b[0m\u001b[0mlayer_num\u001b[0m\u001b[0;34m]\u001b[0m \u001b[0;34m+=\u001b[0m \u001b[0mitem\u001b[0m\u001b[0;34m[\u001b[0m\u001b[0mlayer_num\u001b[0m\u001b[0;34m]\u001b[0m\u001b[0;34m[\u001b[0m\u001b[0mt_idx\u001b[0m\u001b[0;34m-\u001b[0m\u001b[0;36m1\u001b[0m\u001b[0;34m]\u001b[0m\u001b[0;34m\u001b[0m\u001b[0;34m\u001b[0m\u001b[0m\n\u001b[0m\u001b[1;32m     21\u001b[0m \u001b[0;34m\u001b[0m\u001b[0m\n\u001b[1;32m     22\u001b[0m \u001b[0mtasks\u001b[0m\u001b[0;34m.\u001b[0m\u001b[0mappend\u001b[0m\u001b[0;34m(\u001b[0m\u001b[0;36m20\u001b[0m\u001b[0;34m)\u001b[0m\u001b[0;34m\u001b[0m\u001b[0;34m\u001b[0m\u001b[0m\n",
      "\u001b[0;31mIndexError\u001b[0m: list index out of range"
     ]
    }
   ],
   "source": [
    "t_idx = 1 # index of the task to do the comparison\n",
    "\n",
    "tasks = []\n",
    "dotp = []\n",
    "temp_sum = [0] * layers\n",
    "task_num = t_idx + 1\n",
    "\n",
    "for i, item in enumerate(all_data[2][batch_per_task*(task_num-1):].tolist()):\n",
    "    if i % batch_per_task == 0 and i > 0:\n",
    "        tasks.append(task_num)\n",
    "        task_num = int(i / batch_per_task + t_idx + 1)\n",
    "    for layer_num in range(layers):\n",
    "        if layer_num > len(dotp) - 1:\n",
    "            dotp.append([])\n",
    "        if i % batch_per_task == 0 and i > 0:\n",
    "            dotp[layer_num].append(temp_sum[layer_num] / batch_per_task)\n",
    "            temp_sum[layer_num] = 0\n",
    "            \n",
    "        temp_sum[layer_num] += item[layer_num][t_idx-1]\n",
    "\n",
    "tasks.append(20)\n",
    "for layer_num in range(layers):\n",
    "    dotp[layer_num].append(temp_sum[layer_num] / batch_per_task)\n",
    "\n",
    "if layers == 4:\n",
    "    plt.plot(tasks, dotp[0], marker=\"o\", label=\"layer1\")\n",
    "    plt.plot(tasks, dotp[1], marker='*', label=\"layer2\")\n",
    "    plt.plot(tasks, dotp[2], marker='x', label=\"layer3\")\n",
    "    plt.plot(tasks, dotp[3], marker='|', label=\"layer4\")\n",
    "    plt.xticks(tasks)\n",
    "    plt.legend()\n",
    "    plt.savefig(\"cifar100/layer_dotp.png\")\n",
    "else:\n",
    "    plt.plot(tasks, dotp[0], marker=\"o\", label=\"layer1\")\n",
    "    plt.plot(tasks, dotp[2], marker='*', label=\"layer2\")\n",
    "    plt.plot(tasks, dotp[4], marker='x', label=\"layer3\")\n",
    "    plt.xticks(tasks)\n",
    "    plt.legend()\n",
    "    plt.savefig(\"mnist_perm/layer_dotp.png\")"
   ]
  },
  {
   "cell_type": "markdown",
   "metadata": {},
   "source": [
    "## Evolution of the test accuracy at the each task"
   ]
  },
  {
   "cell_type": "code",
   "execution_count": 21,
   "metadata": {},
   "outputs": [],
   "source": [
    "tasks = []\n",
    "result_a = []\n",
    "current_task = 0\n",
    "\n",
    "for i in range(len(all_data[0])):\n",
    "    if all_data[0][i] != current_task:\n",
    "        tasks.append(current_task+1)\n",
    "        current_task = int(all_data[0][i])\n",
    "        if current_task > len(result_a) - 1:\n",
    "            result_a.append([])\n",
    "        for j in range(current_task):\n",
    "            result_a[j].append(all_data[1][i-1][j])\n",
    "            \n",
    "result_a.append([])\n",
    "tasks.append(current_task+1)\n",
    "for j in range(current_task+1):\n",
    "    result_a[j].append(all_data[1][i][j])\n",
    "    \n",
    "# plt.plot(tasks, result_a[0])\n",
    "# plt.legend()"
   ]
  },
  {
   "cell_type": "code",
   "execution_count": 20,
   "metadata": {},
   "outputs": [
    {
     "data": {
      "image/png": "[encoded data removed]",
      "text/plain": [
       "<Figure size 432x288 with 1 Axes>"
      ]
     },
     "metadata": {
      "needs_background": "light"
     },
     "output_type": "display_data"
    }
   ],
   "source": [
    "# regular = result_a[0]\n",
    "# gem = result_a[0]\n",
    "\n",
    "plt.plot(tasks, regular, label=\"regular_bp\")\n",
    "plt.plot(tasks, gem, label=\"gem\")\n",
    "plt.xticks(tasks)\n",
    "plt.legend()\n",
    "plt.savefig(\"accuracy.png\")"
   ]
  },
  {
   "cell_type": "code",
   "execution_count": 29,
   "metadata": {},
   "outputs": [
    {
     "data": {
      "text/plain": [
       "tensor([[0., 0., 0., 0., 0., 0., 0., 0., 0., 0., 0., 0., 0., 0., 0., 0., 0., 0., 0.],\n",
       "        [0., 0., 0., 0., 0., 0., 0., 0., 0., 0., 0., 0., 0., 0., 0., 0., 0., 0., 0.],\n",
       "        [0., 0., 0., 0., 0., 0., 0., 0., 0., 0., 0., 0., 0., 0., 0., 0., 0., 0., 0.],\n",
       "        [0., 0., 0., 0., 0., 0., 0., 0., 0., 0., 0., 0., 0., 0., 0., 0., 0., 0., 0.]])"
      ]
     },
     "execution_count": 29,
     "metadata": {},
     "output_type": "execute_result"
    }
   ],
   "source": [
    "all_data[2][4000]"
   ]
  },
  {
   "cell_type": "code",
   "execution_count": null,
   "metadata": {},
   "outputs": [],
   "source": []
  }
 ],
 "metadata": {
  "kernelspec": {
   "display_name": "Python 3",
   "language": "python",
   "name": "python3"
  },
  "language_info": {
   "codemirror_mode": {
    "name": "ipython",
    "version": 3
   },
   "file_extension": ".py",
   "mimetype": "text/x-python",
   "name": "python",
   "nbconvert_exporter": "python",
   "pygments_lexer": "ipython3",
   "version": "3.7.2"
  }
 },
 "nbformat": 4,
 "nbformat_minor": 4
}
