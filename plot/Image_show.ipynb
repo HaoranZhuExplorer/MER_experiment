{
 "cells": [
  {
   "cell_type": "code",
   "execution_count": 7,
   "metadata": {},
   "outputs": [],
   "source": [
    "import torch\n",
    "import numpy as np  \n",
    "from PIL import Image\n",
    "\n",
    "path = \"../data/\"\n",
    "file = \"cifar100_20_o.pt\"  # Only work cifar100 right now\n",
    "x_tr, x_te = torch.load(path+file)"
   ]
  },
  {
   "cell_type": "code",
   "execution_count": 8,
   "metadata": {},
   "outputs": [],
   "source": [
    "task = 0  # task number\n",
    "sample = 16  # sample number in each task\n",
    "temp = (x_tr[task][1][sample] * 255).int()\n",
    "imgs = temp.reshape(1, 3, 32, 32).numpy()\n",
    "img0 = imgs[0][0] \n",
    "img1 = imgs[0][1]\n",
    "img2 = imgs[0][2]\n",
    "i0 = Image.fromarray(img0).convert('L')\n",
    "i1 = Image.fromarray(img1).convert('L')\n",
    "i2 = Image.fromarray(img2).convert('L')\n",
    "img = Image.merge(\"RGB\", (i0, i1, i2))\n",
    "\n",
    "img.show()"
   ]
  },
  {
   "cell_type": "code",
   "execution_count": null,
   "metadata": {},
   "outputs": [],
   "source": []
  }
 ],
 "metadata": {
  "kernelspec": {
   "display_name": "Python 3",
   "language": "python",
   "name": "python3"
  },
  "language_info": {
   "codemirror_mode": {
    "name": "ipython",
    "version": 3
   },
   "file_extension": ".py",
   "mimetype": "text/x-python",
   "name": "python",
   "nbconvert_exporter": "python",
   "pygments_lexer": "ipython3",
   "version": "3.7.2"
  }
 },
 "nbformat": 4,
 "nbformat_minor": 4
}
